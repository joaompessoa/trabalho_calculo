{
 "cells": [
  {
   "cell_type": "code",
   "execution_count": 1,
   "metadata": {},
   "outputs": [],
   "source": [
    "from criar_questoes import generate_questions"
   ]
  },
  {
   "cell_type": "code",
   "execution_count": 2,
   "metadata": {},
   "outputs": [
    {
     "ename": "ValueError",
     "evalue": "Por favor use um numero inteiro",
     "output_type": "error",
     "traceback": [
      "\u001b[0;31m---------------------------------------------------------------------------\u001b[0m",
      "\u001b[0;31mValueError\u001b[0m                                Traceback (most recent call last)",
      "Cell \u001b[0;32mIn[2], line 1\u001b[0m\n\u001b[0;32m----> 1\u001b[0m test \u001b[38;5;241m=\u001b[39m \u001b[43mgenerate_questions\u001b[49m\u001b[43m(\u001b[49m\u001b[38;5;241;43m5.7\u001b[39;49m\u001b[43m)\u001b[49m\n",
      "File \u001b[0;32m~/Programming/trabalho_calculo/criar_questoes.py:44\u001b[0m, in \u001b[0;36mgenerate_questions\u001b[0;34m(num_questions)\u001b[0m\n\u001b[1;32m     42\u001b[0m     \u001b[38;5;28;01mreturn\u001b[39;00m questions\n\u001b[1;32m     43\u001b[0m \u001b[38;5;28;01melse\u001b[39;00m: \n\u001b[0;32m---> 44\u001b[0m     \u001b[38;5;28;01mraise\u001b[39;00m \u001b[38;5;167;01mValueError\u001b[39;00m(\u001b[38;5;124m'\u001b[39m\u001b[38;5;124mPor favor use um numero inteiro\u001b[39m\u001b[38;5;124m'\u001b[39m)\n",
      "\u001b[0;31mValueError\u001b[0m: Por favor use um numero inteiro"
     ]
    }
   ],
   "source": [
    "test = generate_questions(5.7)"
   ]
  },
  {
   "cell_type": "code",
   "execution_count": 3,
   "metadata": {},
   "outputs": [
    {
     "data": {
      "text/plain": [
       "[{'question': 'Encontre o ponto máximo de f(x) = -3*x**2 - 5*x + 3.',\n",
       "  'answer': 61/12},\n",
       " {'question': 'Avalie a integral dupla de 3 sobre a região 5 <= x <= 6 e 3 <= y <= 4.',\n",
       "  'answer': 3},\n",
       " {'question': 'Avalie a integral dupla de 1 sobre a região 4 <= x <= 5 e 1 <= y <= 2.',\n",
       "  'answer': 1},\n",
       " {'question': 'Encontre a derivada parcial de f(x, y) = 2*x**5 + 5*y**2 em relação a x.',\n",
       "  'answer': 10*x**4},\n",
       " {'question': 'Avalie a integral dupla de 2 sobre a região 1 <= x <= 2 e 4 <= y <= 5.',\n",
       "  'answer': 2}]"
      ]
     },
     "execution_count": 3,
     "metadata": {},
     "output_type": "execute_result"
    }
   ],
   "source": [
    "test"
   ]
  }
 ],
 "metadata": {
  "kernelspec": {
   "display_name": ".venv",
   "language": "python",
   "name": "python3"
  },
  "language_info": {
   "codemirror_mode": {
    "name": "ipython",
    "version": 3
   },
   "file_extension": ".py",
   "mimetype": "text/x-python",
   "name": "python",
   "nbconvert_exporter": "python",
   "pygments_lexer": "ipython3",
   "version": "3.12.3"
  }
 },
 "nbformat": 4,
 "nbformat_minor": 2
}
